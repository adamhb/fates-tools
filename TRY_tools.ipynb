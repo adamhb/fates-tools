{
 "cells": [
  {
   "cell_type": "code",
   "execution_count": 2,
   "id": "15a24cde",
   "metadata": {},
   "outputs": [],
   "source": [
    "import pandas as pd\n",
    "import numpy as np"
   ]
  },
  {
   "cell_type": "markdown",
   "id": "bd9ab80e",
   "metadata": {},
   "source": [
    "### Get TRY plant ids for species of interest\n",
    "This is for querying the TRY database"
   ]
  },
  {
   "cell_type": "code",
   "execution_count": 5,
   "id": "2a793ca8",
   "metadata": {},
   "outputs": [
    {
     "name": "stderr",
     "output_type": "stream",
     "text": [
      "/tmp/ipykernel_9984/744311194.py:3: DtypeWarning: Columns (3,4,5,6) have mixed types. Specify dtype option on import or set low_memory=False.\n",
      "  try_spp_df = pd.read_csv(try_spp, encoding_errors=\"ignore\")\n"
     ]
    }
   ],
   "source": [
    "## A try species list\n",
    "try_spp = \"../try_sp_list.csv\"\n",
    "try_spp_df = pd.read_csv(try_spp, encoding_errors=\"ignore\")"
   ]
  },
  {
   "cell_type": "code",
   "execution_count": 7,
   "id": "d85f9228",
   "metadata": {},
   "outputs": [],
   "source": [
    "target_shrubs = ['Arctostaphylos patula','Arctostaphylos manzanita',\n",
    "                       'Ceanothus cordulatus','Ceanothus cuneatus',\n",
    "                       'Ceanothus integerrimus','Ceanothus velutinus']\n",
    "\n",
    "target_oaks = ['Quercus wislizeni','Quercus agrifolia','Quercus ilex','Quercus engelmannii','Quercus suber']\n",
    "\n",
    "g_s = [oak.split(\" \") for oak in target_oaks]"
   ]
  },
  {
   "cell_type": "code",
   "execution_count": 8,
   "id": "5e3f6751-3253-44c6-b5ef-6c9711f3c238",
   "metadata": {},
   "outputs": [
    {
     "data": {
      "text/plain": [
       "[['Quercus', 'wislizeni'],\n",
       " ['Quercus', 'agrifolia'],\n",
       " ['Quercus', 'ilex'],\n",
       " ['Quercus', 'engelmannii'],\n",
       " ['Quercus', 'suber']]"
      ]
     },
     "execution_count": 8,
     "metadata": {},
     "output_type": "execute_result"
    }
   ],
   "source": [
    "g_s"
   ]
  },
  {
   "cell_type": "code",
   "execution_count": 9,
   "id": "211a4164",
   "metadata": {},
   "outputs": [
    {
     "data": {
      "text/plain": [
       "array(['wislizeni', 'agrifolia', 'ilex', 'engelmannii', 'suber'],\n",
       "      dtype='<U11')"
      ]
     },
     "execution_count": 9,
     "metadata": {},
     "output_type": "execute_result"
    }
   ],
   "source": [
    "genus = np.array(g_s)[:,0]\n",
    "species = np.array(g_s)[:,1]\n",
    "species"
   ]
  },
  {
   "cell_type": "code",
   "execution_count": 10,
   "id": "7440a9b1",
   "metadata": {},
   "outputs": [],
   "source": [
    "genus = np.array(g_s)[:,0]\n",
    "species = np.array(g_s)[:,1]\n",
    "\n",
    "sp_id = []\n",
    "i = 0\n",
    "for g,s in zip(genus,species):\n",
    "    i = i + 1\n",
    "    sp_filter = (try_spp_df['AccSpeciesName'] == g) & (try_spp_df['chrysotricha'] == s)\n",
    "    sp_id.append(list(try_spp_df.loc[sp_filter][\"AccSpeciesID\"]))"
   ]
  },
  {
   "cell_type": "code",
   "execution_count": 12,
   "id": "237349c4-d8f1-4017-8a9e-270d70fd9a7e",
   "metadata": {},
   "outputs": [
    {
     "data": {
      "text/plain": [
       "0         False\n",
       "1         False\n",
       "2         False\n",
       "3         False\n",
       "4         False\n",
       "          ...  \n",
       "279870    False\n",
       "279871    False\n",
       "279872    False\n",
       "279873    False\n",
       "279874    False\n",
       "Length: 279875, dtype: bool"
      ]
     },
     "execution_count": 12,
     "metadata": {},
     "output_type": "execute_result"
    }
   ],
   "source": [
    "sp_filter"
   ]
  },
  {
   "cell_type": "code",
   "execution_count": 11,
   "id": "a1b5da21-02ef-479b-a9af-bfc1a7610fa0",
   "metadata": {},
   "outputs": [
    {
     "data": {
      "text/plain": [
       "[[45504, 374177], [45314], [45402], [45370], [45490]]"
      ]
     },
     "execution_count": 11,
     "metadata": {},
     "output_type": "execute_result"
    }
   ],
   "source": [
    "sp_id"
   ]
  },
  {
   "cell_type": "markdown",
   "id": "58266213",
   "metadata": {},
   "source": [
    "PIPO: 42168,251255\n",
    "ABCO: 39\n",
    "CADE: 9622\n",
    "\n",
    "Target shrubs:4520, 4513, 204236, 204237, 204238, 281021, 281022, 281023, 11291, 11293, 212524, 212525, 212526, 11308, 11331, 295294,\n",
    "\n",
    "QUCH, QUKE, QUDO, QUAG, QUEN, QUWI\n",
    "45408, 45346, 374041, 45363, 45314, 45370, 45504, 374177\n",
    "\n",
    "Data to get\n",
    "\n",
    "VCmax (186,185) is available or blue oak (45363)\n",
    "Xylem hydraulic vulnerability curve (P20, P50, P80) (3479,719) for QUAG\n",
    "sla and leaf nitrogen \n",
    "\n",
    "11, 3115, 3116, 3117, 3085, 3086, 3106, 3107, 570, 50, 24, 153, 12, 52, 6, 4, 3479, 719, 171, 186, 185, 487, 537, 186,185,45363\n",
    "\n",
    "\n",
    "4520],\n",
    " [4513, 204236, 204237, 204238, 281021, 281022, 281023],\n",
    " [11291],\n",
    " [11293, 212524, 212525, 212526],\n",
    " [11308],\n",
    " [11331, 295294"
   ]
  }
 ],
 "metadata": {
  "kernelspec": {
   "display_name": "env4",
   "language": "python",
   "name": "env4"
  },
  "language_info": {
   "codemirror_mode": {
    "name": "ipython",
    "version": 3
   },
   "file_extension": ".py",
   "mimetype": "text/x-python",
   "name": "python",
   "nbconvert_exporter": "python",
   "pygments_lexer": "ipython3",
   "version": "3.8.13"
  },
  "toc": {
   "base_numbering": 1,
   "nav_menu": {},
   "number_sections": true,
   "sideBar": true,
   "skip_h1_title": false,
   "title_cell": "Table of Contents",
   "title_sidebar": "Contents",
   "toc_cell": false,
   "toc_position": {},
   "toc_section_display": true,
   "toc_window_display": false
  }
 },
 "nbformat": 4,
 "nbformat_minor": 5
}
